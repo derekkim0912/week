{
  "nbformat": 4,
  "nbformat_minor": 0,
  "metadata": {
    "colab": {
      "provenance": [],
      "authorship_tag": "ABX9TyMjw4EoxTurG3xkZL1gcjTM",
      "include_colab_link": true
    },
    "kernelspec": {
      "name": "python3",
      "display_name": "Python 3"
    },
    "language_info": {
      "name": "python"
    }
  },
  "cells": [
    {
      "cell_type": "markdown",
      "metadata": {
        "id": "view-in-github",
        "colab_type": "text"
      },
      "source": [
        "<a href=\"https://colab.research.google.com/github/derekkim0912/week/blob/main/ML_Problem_Set_2.ipynb\" target=\"_parent\"><img src=\"https://colab.research.google.com/assets/colab-badge.svg\" alt=\"Open In Colab\"/></a>"
      ]
    },
    {
      "cell_type": "code",
      "execution_count": 60,
      "metadata": {
        "id": "TK4pYZeBMzJv"
      },
      "outputs": [],
      "source": [
        "import pandas as pd\n",
        "import numpy as np\n",
        "import matplotlib.pyplot as plt\n",
        "import math\n",
        "import copy"
      ]
    },
    {
      "cell_type": "code",
      "source": [
        "def load_data(filename):\n",
        "   data = np.loadtxt(filename, delimiter=',')\n",
        "   X = data[:,:2]\n",
        "   y = data[:,2]\n",
        "   return X, y"
      ],
      "metadata": {
        "id": "WqKu0A89M-vi"
      },
      "execution_count": 59,
      "outputs": []
    },
    {
      "cell_type": "code",
      "source": [
        "X_train, y_train = load_data(\"data/ex2data1.txt\")"
      ],
      "metadata": {
        "id": "kBsi2go5O_AO"
      },
      "execution_count": 61,
      "outputs": []
    },
    {
      "cell_type": "code",
      "source": [
        "print(\"First five elements in X_train are:\\n\", X_train[:5])\n",
        "print(\"Type of X_train:\",type(X_train))"
      ],
      "metadata": {
        "colab": {
          "base_uri": "https://localhost:8080/"
        },
        "id": "cMKl0v04RFGx",
        "outputId": "171b0df8-7135-4614-81cb-f0e700db1493"
      },
      "execution_count": 62,
      "outputs": [
        {
          "output_type": "stream",
          "name": "stdout",
          "text": [
            "First five elements in X_train are:\n",
            " [[34.62365962 78.02469282]\n",
            " [30.28671077 43.89499752]\n",
            " [35.84740877 72.90219803]\n",
            " [60.18259939 86.3085521 ]\n",
            " [79.03273605 75.34437644]]\n",
            "Type of X_train: <class 'numpy.ndarray'>\n"
          ]
        }
      ]
    },
    {
      "cell_type": "code",
      "source": [
        "print(\"First five elements in y_train are:\\n\", y_train[:5])\n",
        "print(\"Type of y_train:\",type(y_train))"
      ],
      "metadata": {
        "colab": {
          "base_uri": "https://localhost:8080/"
        },
        "id": "-THeFy4DRGDo",
        "outputId": "77c9d92e-dabb-4600-b72d-6ffe7e2e2760"
      },
      "execution_count": 63,
      "outputs": [
        {
          "output_type": "stream",
          "name": "stdout",
          "text": [
            "First five elements in y_train are:\n",
            " [0. 0. 0. 1. 1.]\n",
            "Type of y_train: <class 'numpy.ndarray'>\n"
          ]
        }
      ]
    },
    {
      "cell_type": "code",
      "source": [
        "print ('The shape of X_train is: ' + str(X_train.shape))\n",
        "print ('The shape of y_train is: ' + str(y_train.shape))\n",
        "print ('We have m = %d training examples' % (len(y_train)))"
      ],
      "metadata": {
        "colab": {
          "base_uri": "https://localhost:8080/"
        },
        "id": "7zYSfR9jR5C5",
        "outputId": "d77a69a1-c909-4b35-d1e0-7742f077976a"
      },
      "execution_count": 64,
      "outputs": [
        {
          "output_type": "stream",
          "name": "stdout",
          "text": [
            "The shape of X_train is: (100, 2)\n",
            "The shape of y_train is: (100,)\n",
            "We have m = 100 training examples\n"
          ]
        }
      ]
    },
    {
      "cell_type": "code",
      "source": [
        "def plot_data(X, y, pos_label=\"y=1\", neg_label=\"y=0\"):\n",
        "  positive = y == 1\n",
        "  negative = y == 0\n",
        "\n",
        "  plt.plot(X[positive, 0], X[positive, 1], 'k+', label=pos_label)\n",
        "  plt.plot(X[negative, 0], X[negative, 1], 'yo', label=neg_label)"
      ],
      "metadata": {
        "id": "JobGph2jR8lk"
      },
      "execution_count": 68,
      "outputs": []
    },
    {
      "cell_type": "code",
      "source": [
        "plot_data(X_train, y_train[:], pos_label=\"Admitted\", neg_label=\"Not admitted\")\n",
        "\n",
        "plt.ylabel('Exam 2 score')\n",
        "\n",
        "plt.xlabel('Exam 1 score')\n",
        "plt.legend(loc=\"upper right\")\n",
        "plt.show()"
      ],
      "metadata": {
        "colab": {
          "base_uri": "https://localhost:8080/",
          "height": 449
        },
        "id": "eHgDw1GKSONg",
        "outputId": "932d3b9a-eaa1-4f40-bad4-7bda83725342"
      },
      "execution_count": 69,
      "outputs": [
        {
          "output_type": "display_data",
          "data": {
            "text/plain": [
              "<Figure size 640x480 with 1 Axes>"
            ],
            "image/png": "[encoded data removed]"
          },
          "metadata": {}
        }
      ]
    },
    {
      "cell_type": "code",
      "source": [
        "def sigmoid(z):\n",
        "  g = 1 / (1 + np.exp(-z))\n",
        "  return g"
      ],
      "metadata": {
        "id": "fYL74HetSR2t"
      },
      "execution_count": 70,
      "outputs": []
    },
    {
      "cell_type": "code",
      "source": [
        "value = 0\n",
        "print (f\"sigmoid({value}) = {sigmoid(value)}\")"
      ],
      "metadata": {
        "colab": {
          "base_uri": "https://localhost:8080/"
        },
        "id": "-7u0gYdtSk1C",
        "outputId": "c2c4354d-8515-439f-db58-c537563f88c0"
      },
      "execution_count": 71,
      "outputs": [
        {
          "output_type": "stream",
          "name": "stdout",
          "text": [
            "sigmoid(0) = 0.5\n"
          ]
        }
      ]
    },
    {
      "cell_type": "code",
      "source": [
        "def compute_cost(X, y, w, b, *argv):\n",
        "  m, n = X.shape\n",
        "  z = np.dot(X, w) + b\n",
        "  predictions = sigmoid(z)\n",
        "  cost = - (1/m) * np.sum(y * np.log(predictions) + (1 - y) * np.log(1 - predictions))\n",
        "  total_cost = cost\n",
        "  return total_cost"
      ],
      "metadata": {
        "id": "hIr8B6qTSvkD"
      },
      "execution_count": 73,
      "outputs": []
    },
    {
      "cell_type": "code",
      "source": [
        "m, n = X_train.shape\n",
        "initial_w = np.zeros(n)\n",
        "initial_b = 0.\n",
        "cost = compute_cost(X_train, y_train, initial_w, initial_b)\n",
        "print('Cost at initial w and b (zeros): {:.3f}'.format(cost))"
      ],
      "metadata": {
        "colab": {
          "base_uri": "https://localhost:8080/"
        },
        "id": "CIGuy-LgS48D",
        "outputId": "91ff08e2-ae65-45ef-e872-18a928da5fd2"
      },
      "execution_count": 74,
      "outputs": [
        {
          "output_type": "stream",
          "name": "stdout",
          "text": [
            "Cost at initial w and b (zeros): 0.693\n"
          ]
        }
      ]
    },
    {
      "cell_type": "code",
      "source": [
        "def compute_gradient(X, y, w, b, *argv):\n",
        "  m, n = X.shape\n",
        "  dj_dw = np.zeros(w.shape)\n",
        "  dj_db = 0.\n",
        "  z = np.dot(X, w) + b\n",
        "  predictions = sigmoid(z)\n",
        "  error = predictions - y\n",
        "  dj_dw = (1 / m) * np.dot(X.T, error)\n",
        "  dj_db = (1 / m) * np.sum(error)\n",
        "  return dj_db, dj_dw"
      ],
      "metadata": {
        "id": "foca50jES9kn"
      },
      "execution_count": 75,
      "outputs": []
    },
    {
      "cell_type": "code",
      "source": [
        "initial_w = np.zeros(n)\n",
        "initial_b = 0.\n",
        "dj_db, dj_dw = compute_gradient(X_train, y_train, initial_w, initial_b)\n",
        "print(f'dj_db at initial w and b (zeros):{dj_db}' )\n",
        "print(f'dj_dw at initial w and b (zeros):{dj_dw.tolist()}' )"
      ],
      "metadata": {
        "colab": {
          "base_uri": "https://localhost:8080/"
        },
        "id": "4irOFm94TPgG",
        "outputId": "854cba40-ce56-42ab-ac72-aba202db1673"
      },
      "execution_count": 76,
      "outputs": [
        {
          "output_type": "stream",
          "name": "stdout",
          "text": [
            "dj_db at initial w and b (zeros):-0.1\n",
            "dj_dw at initial w and b (zeros):[-12.009216589291153, -11.262842205513593]\n"
          ]
        }
      ]
    },
    {
      "cell_type": "code",
      "source": [
        "test_w = np.array([ 0.2, -0.5])\n",
        "test_b = -24\n",
        "dj_db, dj_dw = compute_gradient(X_train, y_train, test_w, test_b)\n",
        "print('dj_db at test w and b:', dj_db)\n",
        "print('dj_dw at test w and b:', dj_dw.tolist())"
      ],
      "metadata": {
        "colab": {
          "base_uri": "https://localhost:8080/"
        },
        "id": "aqJFVFz7TS2t",
        "outputId": "d3d2401c-8aac-4ffc-b4e5-d20a0315c99a"
      },
      "execution_count": 77,
      "outputs": [
        {
          "output_type": "stream",
          "name": "stdout",
          "text": [
            "dj_db at test w and b: -0.5999999999991071\n",
            "dj_dw at test w and b: [-44.831353617873795, -44.373841249539794]\n"
          ]
        }
      ]
    },
    {
      "cell_type": "code",
      "source": [
        "def gradient_descent(X, y, w_in, b_in, cost_function, gradient_function, alpha,\n",
        "num_iters, lambda_):\n",
        "  m = len(X)\n",
        "  J_history = []\n",
        "  w_history = []\n",
        "  for i in range(num_iters):\n",
        "    dj_db, dj_dw = gradient_function(X, y, w_in, b_in, lambda_)\n",
        "\n",
        "    w_in = w_in - alpha * dj_dw\n",
        "    b_in = b_in - alpha * dj_db\n",
        "\n",
        "    if i<100000:\n",
        "       cost = cost_function(X, y, w_in, b_in, lambda_)\n",
        "       J_history.append(cost)\n",
        "\n",
        "       if i% math.ceil(num_iters/10) == 0 or i == (num_iters-1):\n",
        "          w_history.append(w_in)\n",
        "          print(f\"Iteration {i:4}: Cost {float(J_history[-1]):8.2f} \")\n",
        "          return w_in, b_in, J_history, w_history"
      ],
      "metadata": {
        "id": "UOKORwxUTVMN"
      },
      "execution_count": 84,
      "outputs": []
    },
    {
      "cell_type": "code",
      "source": [
        "np.random.seed(1)\n",
        "initial_w = 0.01 * (np.random.rand(2) - 0.5)\n",
        "initial_b = -8\n",
        "iterations = 10000\n",
        "alpha = 0.001\n",
        "w,b, J_history,_ = gradient_descent(X_train ,y_train, initial_w, initial_b,\n",
        "compute_cost, compute_gradient, alpha, iterations, 0)"
      ],
      "metadata": {
        "colab": {
          "base_uri": "https://localhost:8080/"
        },
        "id": "brcLIb-QT7Ma",
        "outputId": "a4f1f62d-cf60-4275-d9f4-fc0b16b6d9dc"
      },
      "execution_count": 85,
      "outputs": [
        {
          "output_type": "stream",
          "name": "stdout",
          "text": [
            "Iteration    0: Cost     0.96 \n"
          ]
        }
      ]
    },
    {
      "cell_type": "code",
      "source": [
        "def plot_decision_boundary(w, b, X, y):\n",
        "  plot_data(X[:, 0:2], y)\n",
        "  if X.shape[1] <= 2:\n",
        "     plot_x = np.array([min(X[:, 0]), max(X[:, 0])])\n",
        "     plot_y = (-1. / w[1]) * (w[0] * plot_x + b)\n",
        "     plt.plot(plot_x, plot_y, c=\"b\")\n",
        "  else:\n",
        "    u = np.linspace(-1, 1.5, 50)\n",
        "    v = np.linspace(-1, 1.5, 50)\n",
        "    z = np.zeros((len(u), len(v)))\n",
        "  for i in range(len(u)):\n",
        "    for j in range(len(v)):\n",
        "       z[i,j] = sig(np.dot(map_feature(u[i], v[j]), w).item() + b)\n",
        "\n",
        "  z = z.T\n",
        "\n",
        "  plt.contour(u,v,z, levels = [0.5], colors=\"g\")"
      ],
      "metadata": {
        "id": "CvCDW66IUBoy"
      },
      "execution_count": 91,
      "outputs": []
    },
    {
      "cell_type": "code",
      "source": [
        "def sig(z):\n",
        "  return 1/(1+np.exp(-z))"
      ],
      "metadata": {
        "id": "ooO_QJAwUnJn"
      },
      "execution_count": 93,
      "outputs": []
    },
    {
      "cell_type": "code",
      "source": [
        "plot_decision_boundary(w, b, X_train, y_train)\n",
        "plt.ylabel('Exam 2 score')\n",
        "plt.xlabel('Exam 1 score')\n",
        "plt.legend(loc=\"upper right\")\n",
        "plt.show()"
      ],
      "metadata": {
        "colab": {
          "base_uri": "https://localhost:8080/",
          "height": 771
        },
        "id": "VLN9I_n0UqRV",
        "outputId": "d55aa4fa-e75e-4b66-c8cc-25b73e3d37de"
      },
      "execution_count": 94,
      "outputs": [
        {
          "output_type": "error",
          "ename": "UnboundLocalError",
          "evalue": "cannot access local variable 'u' where it is not associated with a value",
          "traceback": [
            "\u001b[0;31m---------------------------------------------------------------------------\u001b[0m",
            "\u001b[0;31mUnboundLocalError\u001b[0m                         Traceback (most recent call last)",
            "\u001b[0;32m<ipython-input-94-b9b5fe828e15>\u001b[0m in \u001b[0;36m<cell line: 0>\u001b[0;34m()\u001b[0m\n\u001b[0;32m----> 1\u001b[0;31m \u001b[0mplot_decision_boundary\u001b[0m\u001b[0;34m(\u001b[0m\u001b[0mw\u001b[0m\u001b[0;34m,\u001b[0m \u001b[0mb\u001b[0m\u001b[0;34m,\u001b[0m \u001b[0mX_train\u001b[0m\u001b[0;34m,\u001b[0m \u001b[0my_train\u001b[0m\u001b[0;34m)\u001b[0m\u001b[0;34m\u001b[0m\u001b[0;34m\u001b[0m\u001b[0m\n\u001b[0m\u001b[1;32m      2\u001b[0m \u001b[0mplt\u001b[0m\u001b[0;34m.\u001b[0m\u001b[0mylabel\u001b[0m\u001b[0;34m(\u001b[0m\u001b[0;34m'Exam 2 score'\u001b[0m\u001b[0;34m)\u001b[0m\u001b[0;34m\u001b[0m\u001b[0;34m\u001b[0m\u001b[0m\n\u001b[1;32m      3\u001b[0m \u001b[0mplt\u001b[0m\u001b[0;34m.\u001b[0m\u001b[0mxlabel\u001b[0m\u001b[0;34m(\u001b[0m\u001b[0;34m'Exam 1 score'\u001b[0m\u001b[0;34m)\u001b[0m\u001b[0;34m\u001b[0m\u001b[0;34m\u001b[0m\u001b[0m\n\u001b[1;32m      4\u001b[0m \u001b[0mplt\u001b[0m\u001b[0;34m.\u001b[0m\u001b[0mlegend\u001b[0m\u001b[0;34m(\u001b[0m\u001b[0mloc\u001b[0m\u001b[0;34m=\u001b[0m\u001b[0;34m\"upper right\"\u001b[0m\u001b[0;34m)\u001b[0m\u001b[0;34m\u001b[0m\u001b[0;34m\u001b[0m\u001b[0m\n\u001b[1;32m      5\u001b[0m \u001b[0mplt\u001b[0m\u001b[0;34m.\u001b[0m\u001b[0mshow\u001b[0m\u001b[0;34m(\u001b[0m\u001b[0;34m)\u001b[0m\u001b[0;34m\u001b[0m\u001b[0;34m\u001b[0m\u001b[0m\n",
            "\u001b[0;32m<ipython-input-91-34d6d1d9335e>\u001b[0m in \u001b[0;36mplot_decision_boundary\u001b[0;34m(w, b, X, y)\u001b[0m\n\u001b[1;32m      9\u001b[0m     \u001b[0mv\u001b[0m \u001b[0;34m=\u001b[0m \u001b[0mnp\u001b[0m\u001b[0;34m.\u001b[0m\u001b[0mlinspace\u001b[0m\u001b[0;34m(\u001b[0m\u001b[0;34m-\u001b[0m\u001b[0;36m1\u001b[0m\u001b[0;34m,\u001b[0m \u001b[0;36m1.5\u001b[0m\u001b[0;34m,\u001b[0m \u001b[0;36m50\u001b[0m\u001b[0;34m)\u001b[0m\u001b[0;34m\u001b[0m\u001b[0;34m\u001b[0m\u001b[0m\n\u001b[1;32m     10\u001b[0m     \u001b[0mz\u001b[0m \u001b[0;34m=\u001b[0m \u001b[0mnp\u001b[0m\u001b[0;34m.\u001b[0m\u001b[0mzeros\u001b[0m\u001b[0;34m(\u001b[0m\u001b[0;34m(\u001b[0m\u001b[0mlen\u001b[0m\u001b[0;34m(\u001b[0m\u001b[0mu\u001b[0m\u001b[0;34m)\u001b[0m\u001b[0;34m,\u001b[0m \u001b[0mlen\u001b[0m\u001b[0;34m(\u001b[0m\u001b[0mv\u001b[0m\u001b[0;34m)\u001b[0m\u001b[0;34m)\u001b[0m\u001b[0;34m)\u001b[0m\u001b[0;34m\u001b[0m\u001b[0;34m\u001b[0m\u001b[0m\n\u001b[0;32m---> 11\u001b[0;31m   \u001b[0;32mfor\u001b[0m \u001b[0mi\u001b[0m \u001b[0;32min\u001b[0m \u001b[0mrange\u001b[0m\u001b[0;34m(\u001b[0m\u001b[0mlen\u001b[0m\u001b[0;34m(\u001b[0m\u001b[0mu\u001b[0m\u001b[0;34m)\u001b[0m\u001b[0;34m)\u001b[0m\u001b[0;34m:\u001b[0m\u001b[0;34m\u001b[0m\u001b[0;34m\u001b[0m\u001b[0m\n\u001b[0m\u001b[1;32m     12\u001b[0m     \u001b[0;32mfor\u001b[0m \u001b[0mj\u001b[0m \u001b[0;32min\u001b[0m \u001b[0mrange\u001b[0m\u001b[0;34m(\u001b[0m\u001b[0mlen\u001b[0m\u001b[0;34m(\u001b[0m\u001b[0mv\u001b[0m\u001b[0;34m)\u001b[0m\u001b[0;34m)\u001b[0m\u001b[0;34m:\u001b[0m\u001b[0;34m\u001b[0m\u001b[0;34m\u001b[0m\u001b[0m\n\u001b[1;32m     13\u001b[0m        \u001b[0mz\u001b[0m\u001b[0;34m[\u001b[0m\u001b[0mi\u001b[0m\u001b[0;34m,\u001b[0m\u001b[0mj\u001b[0m\u001b[0;34m]\u001b[0m \u001b[0;34m=\u001b[0m \u001b[0msig\u001b[0m\u001b[0;34m(\u001b[0m\u001b[0mnp\u001b[0m\u001b[0;34m.\u001b[0m\u001b[0mdot\u001b[0m\u001b[0;34m(\u001b[0m\u001b[0mmap_feature\u001b[0m\u001b[0;34m(\u001b[0m\u001b[0mu\u001b[0m\u001b[0;34m[\u001b[0m\u001b[0mi\u001b[0m\u001b[0;34m]\u001b[0m\u001b[0;34m,\u001b[0m \u001b[0mv\u001b[0m\u001b[0;34m[\u001b[0m\u001b[0mj\u001b[0m\u001b[0;34m]\u001b[0m\u001b[0;34m)\u001b[0m\u001b[0;34m,\u001b[0m \u001b[0mw\u001b[0m\u001b[0;34m)\u001b[0m\u001b[0;34m.\u001b[0m\u001b[0mitem\u001b[0m\u001b[0;34m(\u001b[0m\u001b[0;34m)\u001b[0m \u001b[0;34m+\u001b[0m \u001b[0mb\u001b[0m\u001b[0;34m)\u001b[0m\u001b[0;34m\u001b[0m\u001b[0;34m\u001b[0m\u001b[0m\n",
            "\u001b[0;31mUnboundLocalError\u001b[0m: cannot access local variable 'u' where it is not associated with a value"
          ]
        },
        {
          "output_type": "display_data",
          "data": {
            "text/plain": [
              "<Figure size 640x480 with 1 Axes>"
            ],
            "image/png": "[encoded data removed]"
          },
          "metadata": {}
        }
      ]
    },
    {
      "cell_type": "code",
      "source": [
        "def predict(X, w, b):\n",
        "  m, n = X.shape\n",
        "  p = np.zeros(m)\n",
        "  for i in range(m):\n",
        "     z = np.dot(X[i], w) + b\n",
        "     p[i] = 1 if sigmoid(z) >= 0.5 else 0\n",
        "  return p"
      ],
      "metadata": {
        "id": "z6emGIkkVCZf"
      },
      "execution_count": 95,
      "outputs": []
    },
    {
      "cell_type": "code",
      "source": [
        "np.random.seed(1)\n",
        "tmp_w = np.random.randn(2)\n",
        "tmp_b = 0.3\n",
        "tmp_X = np.random.randn(4, 2) - 0.5\n",
        "tmp_p = predict(tmp_X, tmp_w, tmp_b)\n",
        "print(f'Output of predict: shape {tmp_p.shape}, value {tmp_p}')"
      ],
      "metadata": {
        "colab": {
          "base_uri": "https://localhost:8080/"
        },
        "id": "L7tmYnshVREr",
        "outputId": "f92b9642-c033-41cf-fc85-9d13c5bd68d3"
      },
      "execution_count": 97,
      "outputs": [
        {
          "output_type": "stream",
          "name": "stdout",
          "text": [
            "Output of predict: shape (4,), value [0. 1. 1. 1.]\n"
          ]
        }
      ]
    },
    {
      "cell_type": "code",
      "source": [
        "p = predict(X_train, w,b)\n",
        "print('Train Accuracy: %f'%(np.mean(p == y_train) * 100))"
      ],
      "metadata": {
        "colab": {
          "base_uri": "https://localhost:8080/"
        },
        "id": "tUzfSwvrVS69",
        "outputId": "6163b3aa-6a3e-41e3-c508-db795af3720d"
      },
      "execution_count": 98,
      "outputs": [
        {
          "output_type": "stream",
          "name": "stdout",
          "text": [
            "Train Accuracy: 43.000000\n"
          ]
        }
      ]
    },
    {
      "cell_type": "code",
      "source": [
        "X_train, y_train = load_data(\"data/ex2data2.txt\")"
      ],
      "metadata": {
        "id": "U_QNcf5LVuWe"
      },
      "execution_count": 99,
      "outputs": []
    },
    {
      "cell_type": "code",
      "source": [
        "print(\"X_train:\", X_train[:5])\n",
        "print(\"Type of X_train:\",type(X_train))\n",
        "print(\"y_train:\", y_train[:5])\n",
        "print(\"Type of y_train:\",type(y_train))"
      ],
      "metadata": {
        "colab": {
          "base_uri": "https://localhost:8080/"
        },
        "id": "CuAISlEGVway",
        "outputId": "01babf3c-96a6-411a-ae4b-0542997c82c1"
      },
      "execution_count": 100,
      "outputs": [
        {
          "output_type": "stream",
          "name": "stdout",
          "text": [
            "X_train: [[ 0.051267  0.69956 ]\n",
            " [-0.092742  0.68494 ]\n",
            " [-0.21371   0.69225 ]\n",
            " [-0.375     0.50219 ]\n",
            " [-0.51325   0.46564 ]]\n",
            "Type of X_train: <class 'numpy.ndarray'>\n",
            "y_train: [1. 1. 1. 1. 1.]\n",
            "Type of y_train: <class 'numpy.ndarray'>\n"
          ]
        }
      ]
    },
    {
      "cell_type": "code",
      "source": [
        "print ('The shape of X_train is: ' + str(X_train.shape))\n",
        "print ('The shape of y_train is: ' + str(y_train.shape))\n",
        "print ('We have m = %d training examples' % (len(y_train)))"
      ],
      "metadata": {
        "colab": {
          "base_uri": "https://localhost:8080/"
        },
        "id": "z-9BUrhtVzdY",
        "outputId": "cb3ffb3f-fe4e-469b-85c3-64cad9e2dd45"
      },
      "execution_count": 102,
      "outputs": [
        {
          "output_type": "stream",
          "name": "stdout",
          "text": [
            "The shape of X_train is: (118, 2)\n",
            "The shape of y_train is: (118,)\n",
            "We have m = 118 training examples\n"
          ]
        }
      ]
    },
    {
      "cell_type": "code",
      "source": [
        "def plot_data(X, y, pos_label=\"y=1\", neg_label=\"y=0\"):\n",
        "  positive = y == 1\n",
        "  negative = y == 0\n",
        "\n",
        "  plt.plot(X[positive, 0], X[positive, 1], 'k+', label=pos_label)\n",
        "  plt.plot(X[negative, 0], X[negative, 1], 'yo', label=neg_label)"
      ],
      "metadata": {
        "id": "_-xDzat0V19f"
      },
      "execution_count": 103,
      "outputs": []
    },
    {
      "cell_type": "code",
      "source": [
        "plot_data(X_train, y_train[:], pos_label=\"Accepted\", neg_label=\"Rejected\")\n",
        "\n",
        "plt.ylabel('Microchip Test 2')\n",
        "plt.xlabel('Microchip Test 1')\n",
        "plt.legend(loc=\"upper right\")\n",
        "plt.show()"
      ],
      "metadata": {
        "colab": {
          "base_uri": "https://localhost:8080/",
          "height": 449
        },
        "id": "6wR6_TNpV5-8",
        "outputId": "f50a6fc2-380c-4d8a-8acf-5fec513a92a4"
      },
      "execution_count": 104,
      "outputs": [
        {
          "output_type": "display_data",
          "data": {
            "text/plain": [
              "<Figure size 640x480 with 1 Axes>"
            ],
            "image/png": "[encoded data removed]"
          },
          "metadata": {}
        }
      ]
    },
    {
      "cell_type": "code",
      "source": [
        "def map_feature(X1, X2):\n",
        "  X1 = np.atleast_1d(X1)\n",
        "  X2 = np.atleast_1d(X2)\n",
        "  degree = 6\n",
        "  out = []\n",
        "  for i in range(1, degree+1):\n",
        "    for j in range(i + 1):\n",
        "     out.append((X1**(i-j) * (X2**j)))\n",
        "  return np.stack(out, axis=1)"
      ],
      "metadata": {
        "id": "Sl1paJA1V-k5"
      },
      "execution_count": 105,
      "outputs": []
    },
    {
      "cell_type": "code",
      "source": [
        "print(\"Original shape of data:\", X_train.shape)\n",
        "mapped_X = map_feature(X_train[:, 0], X_train[:, 1])\n",
        "print(\"Shape after feature mapping:\", mapped_X.shape)"
      ],
      "metadata": {
        "colab": {
          "base_uri": "https://localhost:8080/"
        },
        "id": "6Bpme0Z3WIk7",
        "outputId": "a8206d8a-4f52-4056-ef1f-451f6238cc95"
      },
      "execution_count": 106,
      "outputs": [
        {
          "output_type": "stream",
          "name": "stdout",
          "text": [
            "Original shape of data: (118, 2)\n",
            "Shape after feature mapping: (118, 27)\n"
          ]
        }
      ]
    },
    {
      "cell_type": "code",
      "source": [
        "print(\"X_train[0]:\", X_train[0])\n",
        "print(\"mapped X_train[0]:\", mapped_X[0])"
      ],
      "metadata": {
        "colab": {
          "base_uri": "https://localhost:8080/"
        },
        "id": "bzaUWwsbWKHp",
        "outputId": "773eba08-a0cb-430c-ba80-ace745f2003a"
      },
      "execution_count": 107,
      "outputs": [
        {
          "output_type": "stream",
          "name": "stdout",
          "text": [
            "X_train[0]: [0.051267 0.69956 ]\n",
            "mapped X_train[0]: [5.12670000e-02 6.99560000e-01 2.62830529e-03 3.58643425e-02\n",
            " 4.89384194e-01 1.34745327e-04 1.83865725e-03 2.50892595e-02\n",
            " 3.42353606e-01 6.90798869e-06 9.42624411e-05 1.28625106e-03\n",
            " 1.75514423e-02 2.39496889e-01 3.54151856e-07 4.83255257e-06\n",
            " 6.59422333e-05 8.99809795e-04 1.22782870e-02 1.67542444e-01\n",
            " 1.81563032e-08 2.47750473e-07 3.38066048e-06 4.61305487e-05\n",
            " 6.29470940e-04 8.58939846e-03 1.17205992e-01]\n"
          ]
        }
      ]
    },
    {
      "cell_type": "code",
      "source": [
        "def compute_cost_reg(X, y, w, b, lambda_ = 1):\n",
        "  m, n = X.shape\n",
        "  cost_without_reg = compute_cost(X, y, w, b)\n",
        "  reg_cost = 0.\n",
        "  reg_cost = (lambda_ / (2 * m)) * np.sum(w**2)\n",
        "  total_cost = cost_without_reg + reg_cost\n",
        "  return total_cost"
      ],
      "metadata": {
        "id": "9rvJdqLGWMHB"
      },
      "execution_count": 109,
      "outputs": []
    },
    {
      "cell_type": "code",
      "source": [
        "X_mapped = map_feature(X_train[:, 0], X_train[:, 1])\n",
        "np.random.seed(1)\n",
        "initial_w = np.random.rand(X_mapped.shape[1]) - 0.5\n",
        "initial_b = 0.5\n",
        "lambda_ = 0.5\n",
        "cost = compute_cost_reg(X_mapped, y_train, initial_w, initial_b, lambda_)\n",
        "print(\"Regularized cost :\", cost)"
      ],
      "metadata": {
        "colab": {
          "base_uri": "https://localhost:8080/"
        },
        "id": "tIwt7KYQWn4E",
        "outputId": "1f266a4e-d945-4004-8f8f-300e078dc440"
      },
      "execution_count": 110,
      "outputs": [
        {
          "output_type": "stream",
          "name": "stdout",
          "text": [
            "Regularized cost : 0.6618252552483951\n"
          ]
        }
      ]
    },
    {
      "cell_type": "code",
      "source": [
        "def compute_gradient_reg(X, y, w, b, lambda_ = 1):\n",
        "  m, n = X.shape\n",
        "  z = np.dot(X, w) + b\n",
        "  predictions = sigmoid(z)\n",
        "  error = predictions - y\n",
        "\n",
        "  dj_dw = (1 / m) * np.dot(X.T, error) + (lambda_ / m) * w\n",
        "  dj_db = (1 / m) * np.sum(error)\n",
        "  return dj_db, dj_dw"
      ],
      "metadata": {
        "id": "v9B8aGxkWqFD"
      },
      "execution_count": 111,
      "outputs": []
    },
    {
      "cell_type": "code",
      "source": [
        "X_mapped = map_feature(X_train[:, 0], X_train[:, 1])\n",
        "np.random.seed(1)\n",
        "initial_w = np.random.rand(X_mapped.shape[1]) - 0.5\n",
        "initial_b = 0.5\n",
        "lambda_ = 0.5\n",
        "dj_db, dj_dw = compute_gradient_reg(X_mapped, y_train, initial_w, initial_b,\n",
        "lambda_)\n",
        "print(f\"dj_db: {dj_db}\", )\n",
        "print(f\"First few elements of regularized dj_dw:\\n {dj_dw[:4].tolist()}\", )"
      ],
      "metadata": {
        "colab": {
          "base_uri": "https://localhost:8080/"
        },
        "id": "Ej8u4Mc2W4_G",
        "outputId": "e5e2a29d-7195-4939-95dd-c9a2d9ebc1ce"
      },
      "execution_count": 112,
      "outputs": [
        {
          "output_type": "stream",
          "name": "stdout",
          "text": [
            "dj_db: 0.07138288792343654\n",
            "First few elements of regularized dj_dw:\n",
            " [-0.010386028450548701, 0.011409852883280116, 0.0536273463274574, 0.003140278267313463]\n"
          ]
        }
      ]
    },
    {
      "cell_type": "code",
      "source": [
        "np.random.seed(1)\n",
        "initial_w = np.random.rand(X_mapped.shape[1])-0.5\n",
        "initial_b = 1.\n",
        "lambda_ = 0.01\n",
        "iterations = 10000\n",
        "alpha = 0.01\n",
        "w,b, J_history,_ = gradient_descent(X_mapped, y_train, initial_w, initial_b,\n",
        "compute_cost_reg, compute_gradient_reg,\n",
        "alpha, iterations, lambda_)"
      ],
      "metadata": {
        "colab": {
          "base_uri": "https://localhost:8080/"
        },
        "id": "DKKrzlkDW_BV",
        "outputId": "91df332f-cca4-402a-bc44-51a96d716c43"
      },
      "execution_count": 113,
      "outputs": [
        {
          "output_type": "stream",
          "name": "stdout",
          "text": [
            "Iteration    0: Cost     0.72 \n"
          ]
        }
      ]
    },
    {
      "cell_type": "code",
      "source": [
        "plot_decision_boundary(w, b, X_mapped, y_train)\n",
        "plt.ylabel('Microchip Test 2')\n",
        "plt.xlabel('Microchip Test 1')\n",
        "plt.legend(loc=\"upper right\")\n",
        "plt.show()"
      ],
      "metadata": {
        "colab": {
          "base_uri": "https://localhost:8080/",
          "height": 455
        },
        "id": "TzgWewb5XEuk",
        "outputId": "b1b01ea9-d820-403c-b0af-2b9ff6a606aa"
      },
      "execution_count": 114,
      "outputs": [
        {
          "output_type": "display_data",
          "data": {
            "text/plain": [
              "<Figure size 640x480 with 1 Axes>"
            ],
            "image/png": "[encoded data removed]"
          },
          "metadata": {}
        }
      ]
    },
    {
      "cell_type": "code",
      "source": [
        "p = predict(X_mapped, w, b)\n",
        "print('Train Accuracy: %f'%(np.mean(p == y_train) * 100))"
      ],
      "metadata": {
        "colab": {
          "base_uri": "https://localhost:8080/"
        },
        "id": "Ioj1iEYcXLlm",
        "outputId": "7138ede2-5201-436f-d76b-c77380a76e4c"
      },
      "execution_count": 115,
      "outputs": [
        {
          "output_type": "stream",
          "name": "stdout",
          "text": [
            "Train Accuracy: 51.694915\n"
          ]
        }
      ]
    }
  ]
}